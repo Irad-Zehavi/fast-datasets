{
 "cells": [
  {
   "attachments": {},
   "cell_type": "markdown",
   "metadata": {},
   "source": [
    "# Pairs Datasets"
   ]
  },
  {
   "cell_type": "code",
   "execution_count": null,
   "metadata": {},
   "outputs": [],
   "source": [
    "#| default_exp pairs"
   ]
  },
  {
   "cell_type": "code",
   "execution_count": null,
   "metadata": {},
   "outputs": [],
   "source": [
    "#| export\n",
    "import random\n",
    "from typing import Union\n",
    "\n",
    "from fastai.vision.all import *\n",
    "from fastprogress.fastprogress import *\n",
    "\n",
    "import fastai_datasets.patches\n",
    "from fastai_datasets.utils import *"
   ]
  },
  {
   "cell_type": "code",
   "execution_count": null,
   "metadata": {},
   "outputs": [],
   "source": [
    "#| export\n",
    "class ImagePair(fastuple):\n",
    "    \"\"\"Adds showing functionality to fastai's `fastuple`\"\"\"\n",
    "    @classmethod\n",
    "    def create(cls, fns): return cls(tuple(PILImage.create(f) for f in fns))\n",
    "    \n",
    "    def show(self, ctx=None, **kwargs):\n",
    "        t1,t2 = ToTensor()(self)\n",
    "        assert type(t1) == type(t2)\n",
    "        line = t1.new_zeros((t1.shape[0], t1.shape[1], 1))\n",
    "        joint_image = torch.cat([t1,line,t2], dim=2).as_subclass(type(t1))\n",
    "        return joint_image.show(ctx=ctx, **kwargs)\n",
    "\n",
    "class Sameness(Categorize):\n",
    "    \"\"\"Converts boolean/binary labels into \"Not Same\"/\"Same\" labels\"\"\"\n",
    "    def __init__(self):\n",
    "        super().__init__(['Not Same', 'Same'], sort=False)\n",
    "\n",
    "    def encodes(self, o: Union[bool, int]):\n",
    "        return super().encodes(self.vocab[o])"
   ]
  },
  {
   "cell_type": "code",
   "execution_count": null,
   "metadata": {},
   "outputs": [],
   "source": [
    "l = TfmdLists([False, 0, True, 1], Sameness())\n",
    "test_eq([l.decode(o) for o in l], ['Not Same', 'Not Same', 'Same', 'Same'])"
   ]
  },
  {
   "cell_type": "code",
   "execution_count": null,
   "metadata": {},
   "outputs": [],
   "source": [
    "#| exporti\n",
    "@typedispatch\n",
    "def show_batch(x:ImagePair, y, samples, ctxs=None, max_n=9, nrows=None, ncols=3, figsize=None, **kwargs):\n",
    "    if figsize is None: figsize = (ncols*4, max_n//ncols * 2)\n",
    "    if ctxs is None: ctxs = get_grid(min(len(samples), max_n), nrows=nrows, ncols=ncols, figsize=figsize)\n",
    "    ctxs = show_batch[TensorImage](x, y, samples, ctxs=ctxs, max_n=max_n, **kwargs)\n",
    "    return ctxs\n",
    "\n",
    "@typedispatch\n",
    "def show_results(x:ImagePair, y:TensorCategory, samples, outs, ctxs=None, max_n=9, nrows=None, ncols=3, figsize=None, **kwargs):\n",
    "    if figsize is None: figsize = (ncols*4, max_n//ncols * 2.5)\n",
    "    if ctxs is None: ctxs = get_grid(min(len(samples), max_n), nrows=nrows, ncols=ncols, figsize=figsize)\n",
    "    ctxs = show_results[TensorImage, TensorCategory](x, y, samples, outs, ctxs=ctxs, max_n=max_n, **kwargs)"
   ]
  },
  {
   "cell_type": "code",
   "execution_count": null,
   "metadata": {},
   "outputs": [],
   "source": [
    "#| export\n",
    "def _pairs_for_split(singles: DataLoaders, split_idx: int, factor: int):\n",
    "    assert singles.n_inp == 1\n",
    "\n",
    "    indices = L(range_of(singles))[singles.splits[split_idx]]\n",
    "    num = int(len(indices) * factor)\n",
    "\n",
    "    class_map = defaultdict(list)\n",
    "    for i, c in progress_bar(indices.zipwith(singles.i2t.subset(split_idx))):\n",
    "        class_map[singles.vocab[c]].append(i)\n",
    "\n",
    "    @return_list\n",
    "    def _positive_pairs():\n",
    "        multi_item_class_map = {k: v for k, v in class_map.items() if len(v)>1}\n",
    "        for _ in progress_bar(range(num//2)):\n",
    "            c, idxs = random.choice(list(multi_item_class_map.items()))\n",
    "            yield tuple(random.sample(idxs, 2))\n",
    "\n",
    "    @return_list\n",
    "    def _negative_pairs():\n",
    "        for _ in progress_bar(range(num//2)):\n",
    "            (c1, idxs1), (c2, idxs2) = random.sample(list(class_map.items()), 2)\n",
    "            yield (random.choice(idxs1), random.choice(idxs2))\n",
    "\n",
    "    return _positive_pairs() + _negative_pairs()\n",
    "\n",
    "\n",
    "def Pairs(singles: Datasets,  # Used to construct pairs\n",
    "          factor=10,  # ratio between numer of pairs and number of single items, for each split\n",
    "          tuple_type=ImagePair  # To add `show` logic for pairs\n",
    "          ) -> Datasets:\n",
    "    \"\"\"Fixed dataset of randomly-sampled pairs \"\"\"\n",
    "    assert singles.n_inp == 1\n",
    "    pairs_for_splits = [_pairs_for_split(singles, i, factor) for i in range(singles.n_subsets)]\n",
    "\n",
    "    splits = [slice(len(pairs_for_splits[0]))]\n",
    "    for pairs in pairs_for_splits[1:]:\n",
    "        start = splits[-1].stop\n",
    "        splits.append(slice(start, start+len(pairs)))\n",
    "\n",
    "    return Datasets(\n",
    "        [L(x) for items in pairs_for_splits for x in items],\n",
    "        tfms=[\n",
    "            lambda o: tuple_type(singles.tls[0][o]),\n",
    "            [lambda o: bool(singles.i2t[o[0]] == singles.i2t[o[1]]), Sameness()]\n",
    "        ],\n",
    "        splits=splits\n",
    "    )"
   ]
  },
  {
   "cell_type": "code",
   "execution_count": null,
   "metadata": {},
   "outputs": [],
   "source": [
    "from fastai_datasets.mnist import TinyMNIST"
   ]
  },
  {
   "cell_type": "code",
   "execution_count": null,
   "metadata": {},
   "outputs": [
    {
     "data": {
      "text/html": [
       "\n",
       "    <div>\n",
       "      <progress value='174' class='' max='174' style='width:300px; height:20px; vertical-align: middle;'></progress>\n",
       "      100.00% [174/174 00:00&lt;00:00]\n",
       "    </div>\n",
       "    "
      ],
      "text/plain": [
       "<IPython.core.display.HTML object>"
      ]
     },
     "metadata": {},
     "output_type": "display_data"
    }
   ],
   "source": [
    "singles = TinyMNIST()\n",
    "factor = .5\n",
    "pairs = Pairs(singles, factor, ImagePair)"
   ]
  },
  {
   "cell_type": "code",
   "execution_count": null,
   "metadata": {},
   "outputs": [],
   "source": [
    "for i, (idx1, idx2) in enumerate(pairs.items):\n",
    "    pair, target = pairs[i]\n",
    "    test_eq(pair, ImagePair(singles.tls[0][(idx1, idx2)]))\n",
    "    test_eq(target, int(singles.i2t[idx1] == singles.i2t[idx2]))"
   ]
  },
  {
   "attachments": {},
   "cell_type": "markdown",
   "metadata": {},
   "source": [
    "The pairing is done separately for each subset:"
   ]
  },
  {
   "cell_type": "code",
   "execution_count": null,
   "metadata": {},
   "outputs": [
    {
     "data": {
      "text/html": [
       "\n",
       "    <div>\n",
       "      <progress value='2' class='' max='2' style='width:300px; height:20px; vertical-align: middle;'></progress>\n",
       "      100.00% [2/2 00:00&lt;00:00]\n",
       "    </div>\n",
       "    "
      ],
      "text/plain": [
       "<IPython.core.display.HTML object>"
      ]
     },
     "metadata": {},
     "output_type": "display_data"
    }
   ],
   "source": [
    "for singles_ss, pairs_ss in zip(singles.subsets, pairs.subsets):\n",
    "    test_close(len(pairs_ss), len(singles_ss)*factor, 2)\n",
    "    test_eq(set(pairs_ss.by_target.keys()), {'Not Same', 'Same'})\n",
    "    test_eq(len(pairs.by_target['Same']), len(pairs.by_target['Not Same']))"
   ]
  },
  {
   "cell_type": "code",
   "execution_count": null,
   "metadata": {},
   "outputs": [
    {
     "data": {
      "image/png": "[encoded data removed]",
      "text/plain": [
       "<Figure size 1200x600 with 9 Axes>"
      ]
     },
     "metadata": {},
     "output_type": "display_data"
    }
   ],
   "source": [
    "pairs.dls().show_batch()"
   ]
  },
  {
   "cell_type": "code",
   "execution_count": null,
   "metadata": {},
   "outputs": [],
   "source": [
    "#| hide\n",
    "import nbdev; nbdev.nbdev_export()"
   ]
  }
 ],
 "metadata": {
  "kernelspec": {
   "display_name": "python3",
   "language": "python",
   "name": "python3"
  }
 },
 "nbformat": 4,
 "nbformat_minor": 2
}
