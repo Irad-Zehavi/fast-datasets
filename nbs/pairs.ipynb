{
 "cells": [
  {
   "attachments": {},
   "cell_type": "markdown",
   "metadata": {},
   "source": [
    "# Pairs Datasets"
   ]
  },
  {
   "cell_type": "code",
   "execution_count": null,
   "metadata": {},
   "outputs": [],
   "source": [
    "#| default_exp pairs"
   ]
  },
  {
   "cell_type": "code",
   "execution_count": null,
   "metadata": {},
   "outputs": [],
   "source": [
    "#| export\n",
    "import random\n",
    "from typing import NamedTuple\n",
    "\n",
    "from fastai.vision.all import *\n",
    "from tqdm.auto import trange, tqdm\n",
    "\n",
    "import fast_datasets.patches\n",
    "from fast_datasets.utils import return_list"
   ]
  },
  {
   "cell_type": "code",
   "execution_count": null,
   "metadata": {},
   "outputs": [],
   "source": [
    "#| export\n",
    "class ImagePair(fastuple):\n",
    "    \"\"\"Adds showing functionality to fastai's `fastuple`\"\"\"\n",
    "    @classmethod\n",
    "    def create(cls, fns): return cls(tuple(PILImage.create(f) for f in fns))\n",
    "    \n",
    "    def show(self, ctx=None, **kwargs): \n",
    "        t1,t2 = ToTensor()(self)\n",
    "        line = t1.new_zeros(t1.shape[0], t1.shape[1], 10)\n",
    "        return show_image(torch.cat([t1,line,t2], dim=2), ctx=ctx, **kwargs)\n",
    "\n",
    "class Sameness(Categorize):\n",
    "    \"\"\"Converts boolean/binary labels into \"Not Same\"/\"Same\" labels\"\"\"\n",
    "    def __init__(self):\n",
    "        super().__init__(['Not Same', 'Same'], sort=False)\n",
    "\n",
    "    def encodes(self, o: bool|int):\n",
    "        return super().encodes(self.vocab[o])"
   ]
  },
  {
   "cell_type": "code",
   "execution_count": null,
   "metadata": {},
   "outputs": [],
   "source": [
    "l = TfmdLists([False, 0, True, 1], Sameness())\n",
    "test_eq([l.decode(o) for o in l], ['Not Same', 'Not Same', 'Same', 'Same'])"
   ]
  },
  {
   "cell_type": "code",
   "execution_count": null,
   "metadata": {},
   "outputs": [],
   "source": [
    "#| exporti\n",
    "@typedispatch\n",
    "def show_batch(x:ImagePair, y, samples, ctxs=None, max_n=6, nrows=None, ncols=2, figsize=None, **kwargs):\n",
    "    if figsize is None: figsize = (ncols*6, max_n//ncols * 3)\n",
    "    if ctxs is None: ctxs = get_grid(min(len(samples), max_n), nrows=nrows, ncols=ncols, figsize=figsize)\n",
    "    ctxs = show_batch[TensorImage](x, y, samples, ctxs=ctxs, max_n=max_n, **kwargs)\n",
    "    return ctxs"
   ]
  },
  {
   "cell_type": "code",
   "execution_count": null,
   "metadata": {},
   "outputs": [],
   "source": [
    "#| export\n",
    "def _pairs_for_split(singles: DataLoaders, split_idx: int, factor: int):\n",
    "    assert singles.n_inp == 1\n",
    "\n",
    "    indices = L(range_of(singles))[singles.splits[split_idx]]\n",
    "    num = int(len(indices) * factor)\n",
    "\n",
    "    class_map = defaultdict(list)\n",
    "    for i, c in tqdm(zip(indices, singles.targets.subset(split_idx)), desc='Class map: scanning targets'):\n",
    "        class_map[singles.vocab[c]].append(i)\n",
    "\n",
    "    @return_list\n",
    "    def _positive_pairs():\n",
    "        multi_item_class_map = {k: v for k, v in class_map.items() if len(v)>1}\n",
    "        for _ in trange(num//2, desc=f'Generating positive pairs'):\n",
    "            c, idxs = random.choice(list(multi_item_class_map.items()))\n",
    "            yield tuple(random.sample(idxs, 2))\n",
    "\n",
    "    @return_list\n",
    "    def _negative_pairs():\n",
    "        for _ in trange(num//2, desc=f'Generating negative pairs'):\n",
    "            (c1, idxs1), (c2, idxs2) = random.sample(list(class_map.items()), 2)\n",
    "            yield (random.choice(idxs1), random.choice(idxs2))\n",
    "\n",
    "    return _positive_pairs() + _negative_pairs()\n",
    "\n",
    "\n",
    "def Pairs(singles: Datasets, factor=10, tuple_type=ImagePair):\n",
    "    assert singles.n_inp == 1\n",
    "    pairs_for_splits = [_pairs_for_split(singles, i, factor) for i in range(singles.n_subsets)]\n",
    "\n",
    "    splits = [slice(len(pairs_for_splits[0]))]\n",
    "    for pairs in pairs_for_splits[1:]:\n",
    "        start = splits[-1].stop\n",
    "        splits.append(slice(start, start+len(pairs)))\n",
    "\n",
    "    return Datasets(\n",
    "        [L(x) for items in pairs_for_splits for x in items],\n",
    "        tfms=[\n",
    "            lambda o: tuple_type(singles.tls[0][o]),\n",
    "            [lambda o: bool(singles.targets[o[0]] == singles.targets[o[1]]), Sameness()]\n",
    "        ],\n",
    "        splits=splits,\n",
    "        do_setup=False,\n",
    "    )"
   ]
  },
  {
   "cell_type": "code",
   "execution_count": null,
   "metadata": {},
   "outputs": [],
   "source": [
    "from fast_datasets.mnist import TinyMNIST"
   ]
  },
  {
   "cell_type": "code",
   "execution_count": null,
   "metadata": {},
   "outputs": [
    {
     "data": {
      "application/vnd.jupyter.widget-view+json": {
       "model_id": "3846cdf1b6524ee38ba5fd5eef4fbfc8",
       "version_major": 2,
       "version_minor": 0
      },
      "text/plain": [
       "Class map: scanning targets: 0it [00:00, ?it/s]"
      ]
     },
     "metadata": {},
     "output_type": "display_data"
    },
    {
     "data": {
      "application/vnd.jupyter.widget-view+json": {
       "model_id": "5786cfdfb9404cfe872d22e539a55615",
       "version_major": 2,
       "version_minor": 0
      },
      "text/plain": [
       "Generating positive pairs:   0%|          | 0/177 [00:00<?, ?it/s]"
      ]
     },
     "metadata": {},
     "output_type": "display_data"
    },
    {
     "data": {
      "application/vnd.jupyter.widget-view+json": {
       "model_id": "cacdf335ed6d4321a0223303f23a6021",
       "version_major": 2,
       "version_minor": 0
      },
      "text/plain": [
       "Generating negative pairs:   0%|          | 0/177 [00:00<?, ?it/s]"
      ]
     },
     "metadata": {},
     "output_type": "display_data"
    },
    {
     "data": {
      "application/vnd.jupyter.widget-view+json": {
       "model_id": "e1cffc8bbb864326bc7ded72a6c555f8",
       "version_major": 2,
       "version_minor": 0
      },
      "text/plain": [
       "Class map: scanning targets: 0it [00:00, ?it/s]"
      ]
     },
     "metadata": {},
     "output_type": "display_data"
    },
    {
     "data": {
      "application/vnd.jupyter.widget-view+json": {
       "model_id": "03d664989a4b473c9335c76e666e0a17",
       "version_major": 2,
       "version_minor": 0
      },
      "text/plain": [
       "Generating positive pairs:   0%|          | 0/174 [00:00<?, ?it/s]"
      ]
     },
     "metadata": {},
     "output_type": "display_data"
    },
    {
     "data": {
      "application/vnd.jupyter.widget-view+json": {
       "model_id": "27a5d716f1914a70a321ed0d7a20e95c",
       "version_major": 2,
       "version_minor": 0
      },
      "text/plain": [
       "Generating negative pairs:   0%|          | 0/174 [00:00<?, ?it/s]"
      ]
     },
     "metadata": {},
     "output_type": "display_data"
    },
    {
     "data": {
      "application/vnd.jupyter.widget-view+json": {
       "model_id": "d0f5fd6aac8d4813b45ee5be4aa7fedb",
       "version_major": 2,
       "version_minor": 0
      },
      "text/plain": [
       "Class map: scanning targets:   0%|          | 0/354 [00:00<?, ?it/s]"
      ]
     },
     "metadata": {},
     "output_type": "display_data"
    },
    {
     "data": {
      "application/vnd.jupyter.widget-view+json": {
       "model_id": "e1c913b97f6340ef8b9435dea3e0b321",
       "version_major": 2,
       "version_minor": 0
      },
      "text/plain": [
       "Class map: partitioning:   0%|          | 0/2 [00:00<?, ?it/s]"
      ]
     },
     "metadata": {},
     "output_type": "display_data"
    },
    {
     "data": {
      "application/vnd.jupyter.widget-view+json": {
       "model_id": "f0e1848f846b4407bc5220d97123735e",
       "version_major": 2,
       "version_minor": 0
      },
      "text/plain": [
       "Class map: scanning targets:   0%|          | 0/702 [00:00<?, ?it/s]"
      ]
     },
     "metadata": {},
     "output_type": "display_data"
    },
    {
     "data": {
      "application/vnd.jupyter.widget-view+json": {
       "model_id": "f8a5bf8e91714c269f29f60ddd46be91",
       "version_major": 2,
       "version_minor": 0
      },
      "text/plain": [
       "Class map: partitioning:   0%|          | 0/2 [00:00<?, ?it/s]"
      ]
     },
     "metadata": {},
     "output_type": "display_data"
    },
    {
     "data": {
      "application/vnd.jupyter.widget-view+json": {
       "model_id": "7f58781de4c8493a8880e27560f69a38",
       "version_major": 2,
       "version_minor": 0
      },
      "text/plain": [
       "Class map: scanning targets:   0%|          | 0/348 [00:00<?, ?it/s]"
      ]
     },
     "metadata": {},
     "output_type": "display_data"
    },
    {
     "data": {
      "application/vnd.jupyter.widget-view+json": {
       "model_id": "2fc0e960467a41e3b02e6098ff42f8c8",
       "version_major": 2,
       "version_minor": 0
      },
      "text/plain": [
       "Class map: partitioning:   0%|          | 0/2 [00:00<?, ?it/s]"
      ]
     },
     "metadata": {},
     "output_type": "display_data"
    },
    {
     "data": {
      "image/png": "[encoded data removed]",
      "text/plain": [
       "<Figure size 1200x1200 with 10 Axes>"
      ]
     },
     "metadata": {},
     "output_type": "display_data"
    }
   ],
   "source": [
    "singles = TinyMNIST()\n",
    "factor = .5\n",
    "pairs = Pairs(singles, factor)\n",
    "\n",
    "for singles_ss, pairs_ss in zip(singles.subsets(), pairs.subsets()):\n",
    "    test_eq(len(pairs_ss), 2*int(len(singles_ss)*factor*.5))\n",
    "    test_eq(set(pairs_ss.by_class.keys()), {'Not Same', 'Same'})\n",
    "    test_eq(len(pairs.by_class['Same']), len(pairs.by_class['Not Same']))\n",
    "\n",
    "    for i, (idx1, idx2) in enumerate(pairs_ss.items):\n",
    "        test_eq(pairs_ss[i][0], ImagePair(singles.tls[0][(idx1, idx2)]))\n",
    "        is_same = singles.targets[idx1] == singles.targets[idx2]\n",
    "        test_eq(int(is_same), pairs_ss.targets[i])\n",
    "\n",
    "pairs.dls().show_batch()"
   ]
  },
  {
   "cell_type": "code",
   "execution_count": null,
   "metadata": {},
   "outputs": [],
   "source": [
    "#| hide\n",
    "import nbdev; nbdev.nbdev_export()"
   ]
  }
 ],
 "metadata": {
  "kernelspec": {
   "display_name": "python3",
   "language": "python",
   "name": "python3"
  }
 },
 "nbformat": 4,
 "nbformat_minor": 2
}
