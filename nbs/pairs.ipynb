{
 "cells": [
  {
   "attachments": {},
   "cell_type": "markdown",
   "metadata": {},
   "source": [
    "# Pairs Datasets"
   ]
  },
  {
   "cell_type": "code",
   "execution_count": null,
   "metadata": {},
   "outputs": [],
   "source": [
    "#| default_exp pairs"
   ]
  },
  {
   "cell_type": "code",
   "execution_count": null,
   "metadata": {},
   "outputs": [],
   "source": [
    "#| export\n",
    "import random\n",
    "from typing import NamedTuple, Union\n",
    "\n",
    "from fastai.vision.all import *\n",
    "from tqdm.auto import trange, tqdm\n",
    "\n",
    "import fast_datasets.patches\n",
    "from fast_datasets.utils import return_list"
   ]
  },
  {
   "cell_type": "code",
   "execution_count": null,
   "metadata": {},
   "outputs": [],
   "source": [
    "#| export\n",
    "class ImagePair(fastuple):\n",
    "    \"\"\"Adds showing functionality to fastai's `fastuple`\"\"\"\n",
    "    @classmethod\n",
    "    def create(cls, fns): return cls(tuple(PILImage.create(f) for f in fns))\n",
    "    \n",
    "    def show(self, ctx=None, **kwargs): \n",
    "        t1,t2 = ToTensor()(self)\n",
    "        line = t1.new_zeros(t1.shape[0], t1.shape[1], 10)\n",
    "        return show_image(torch.cat([t1,line,t2], dim=2), ctx=ctx, **kwargs)\n",
    "\n",
    "class Sameness(Categorize):\n",
    "    \"\"\"Converts boolean/binary labels into \"Not Same\"/\"Same\" labels\"\"\"\n",
    "    def __init__(self):\n",
    "        super().__init__(['Not Same', 'Same'], sort=False)\n",
    "\n",
    "    def encodes(self, o: Union[bool, int]):\n",
    "        return super().encodes(self.vocab[o])"
   ]
  },
  {
   "cell_type": "code",
   "execution_count": null,
   "metadata": {},
   "outputs": [],
   "source": [
    "l = TfmdLists([False, 0, True, 1], Sameness())\n",
    "test_eq([l.decode(o) for o in l], ['Not Same', 'Not Same', 'Same', 'Same'])"
   ]
  },
  {
   "cell_type": "code",
   "execution_count": null,
   "metadata": {},
   "outputs": [],
   "source": [
    "#| exporti\n",
    "@typedispatch\n",
    "def show_batch(x:ImagePair, y, samples, ctxs=None, max_n=9, nrows=None, ncols=3, figsize=None, **kwargs):\n",
    "    if figsize is None: figsize = (ncols*4, max_n//ncols * 2)\n",
    "    if ctxs is None: ctxs = get_grid(min(len(samples), max_n), nrows=nrows, ncols=ncols, figsize=figsize)\n",
    "    ctxs = show_batch[TensorImage](x, y, samples, ctxs=ctxs, max_n=max_n, **kwargs)\n",
    "    return ctxs"
   ]
  },
  {
   "cell_type": "code",
   "execution_count": null,
   "metadata": {},
   "outputs": [],
   "source": [
    "#| export\n",
    "def _pairs_for_split(singles: DataLoaders, split_idx: int, factor: int):\n",
    "    assert singles.n_inp == 1\n",
    "\n",
    "    indices = L(range_of(singles))[singles.splits[split_idx]]\n",
    "    num = int(len(indices) * factor)\n",
    "\n",
    "    class_map = defaultdict(list)\n",
    "    for i, c in tqdm(zip(indices, singles.i2t.subset(split_idx)), desc='Class map: scanning targets'):\n",
    "        class_map[singles.vocab[c]].append(i)\n",
    "\n",
    "    @return_list\n",
    "    def _positive_pairs():\n",
    "        multi_item_class_map = {k: v for k, v in class_map.items() if len(v)>1}\n",
    "        for _ in trange(num//2, desc=f'Generating positive pairs'):\n",
    "            c, idxs = random.choice(list(multi_item_class_map.items()))\n",
    "            yield tuple(random.sample(idxs, 2))\n",
    "\n",
    "    @return_list\n",
    "    def _negative_pairs():\n",
    "        for _ in trange(num//2, desc=f'Generating negative pairs'):\n",
    "            (c1, idxs1), (c2, idxs2) = random.sample(list(class_map.items()), 2)\n",
    "            yield (random.choice(idxs1), random.choice(idxs2))\n",
    "\n",
    "    return _positive_pairs() + _negative_pairs()\n",
    "\n",
    "\n",
    "def Pairs(singles: Datasets,  # Used to construct pairs\n",
    "          factor=10,  # ratio between numer of pairs and number of single items, for each split\n",
    "          tuple_type=ImagePair  # To add `show` logic for pairs\n",
    "          ) -> Datasets:\n",
    "    \"\"\"Fixed dataset of randomly-sampled pairs \"\"\"\n",
    "    assert singles.n_inp == 1\n",
    "    pairs_for_splits = [_pairs_for_split(singles, i, factor) for i in range(singles.n_subsets)]\n",
    "\n",
    "    splits = [slice(len(pairs_for_splits[0]))]\n",
    "    for pairs in pairs_for_splits[1:]:\n",
    "        start = splits[-1].stop\n",
    "        splits.append(slice(start, start+len(pairs)))\n",
    "\n",
    "    return Datasets(\n",
    "        [L(x) for items in pairs_for_splits for x in items],\n",
    "        tfms=[\n",
    "            lambda o: tuple_type(singles.tls[0][o]),\n",
    "            [lambda o: bool(singles.i2t[o[0]] == singles.i2t[o[1]]), Sameness()]\n",
    "        ],\n",
    "        splits=splits,\n",
    "        do_setup=False,\n",
    "    )"
   ]
  },
  {
   "cell_type": "code",
   "execution_count": null,
   "metadata": {},
   "outputs": [],
   "source": [
    "from fast_datasets.mnist import TinyMNIST"
   ]
  },
  {
   "cell_type": "code",
   "execution_count": null,
   "metadata": {},
   "outputs": [
    {
     "data": {
      "application/vnd.jupyter.widget-view+json": {
       "model_id": "cb7e746593634f0bbde5447eb6d85bac",
       "version_major": 2,
       "version_minor": 0
      },
      "text/plain": [
       "Class map: scanning targets: 0it [00:00, ?it/s]"
      ]
     },
     "metadata": {},
     "output_type": "display_data"
    },
    {
     "data": {
      "application/vnd.jupyter.widget-view+json": {
       "model_id": "0d720efd97a74d91a5c15d54e9e32a81",
       "version_major": 2,
       "version_minor": 0
      },
      "text/plain": [
       "Generating positive pairs:   0%|          | 0/177 [00:00<?, ?it/s]"
      ]
     },
     "metadata": {},
     "output_type": "display_data"
    },
    {
     "data": {
      "application/vnd.jupyter.widget-view+json": {
       "model_id": "947ceee2c3d847719c6c53cdb7361d44",
       "version_major": 2,
       "version_minor": 0
      },
      "text/plain": [
       "Generating negative pairs:   0%|          | 0/177 [00:00<?, ?it/s]"
      ]
     },
     "metadata": {},
     "output_type": "display_data"
    },
    {
     "data": {
      "application/vnd.jupyter.widget-view+json": {
       "model_id": "fc0eeabce9a34235b4275ef2355f94c0",
       "version_major": 2,
       "version_minor": 0
      },
      "text/plain": [
       "Class map: scanning targets: 0it [00:00, ?it/s]"
      ]
     },
     "metadata": {},
     "output_type": "display_data"
    },
    {
     "data": {
      "application/vnd.jupyter.widget-view+json": {
       "model_id": "dbb9865c28d447f5bf96a7df65335e42",
       "version_major": 2,
       "version_minor": 0
      },
      "text/plain": [
       "Generating positive pairs:   0%|          | 0/174 [00:00<?, ?it/s]"
      ]
     },
     "metadata": {},
     "output_type": "display_data"
    },
    {
     "data": {
      "application/vnd.jupyter.widget-view+json": {
       "model_id": "9736abc6630947598bd206d1d5f2963a",
       "version_major": 2,
       "version_minor": 0
      },
      "text/plain": [
       "Generating negative pairs:   0%|          | 0/174 [00:00<?, ?it/s]"
      ]
     },
     "metadata": {},
     "output_type": "display_data"
    }
   ],
   "source": [
    "singles = TinyMNIST()\n",
    "factor = .5\n",
    "pairs = Pairs(singles, factor, ImagePair)"
   ]
  },
  {
   "cell_type": "code",
   "execution_count": null,
   "metadata": {},
   "outputs": [],
   "source": [
    "for i, (idx1, idx2) in enumerate(pairs.items):\n",
    "    pair, target = pairs[i]\n",
    "    test_eq(pair, ImagePair(singles.tls[0][(idx1, idx2)]))\n",
    "    test_eq(target, int(singles.i2t[idx1] == singles.i2t[idx2]))"
   ]
  },
  {
   "attachments": {},
   "cell_type": "markdown",
   "metadata": {},
   "source": [
    "The pairing is done separately for each subset:"
   ]
  },
  {
   "cell_type": "code",
   "execution_count": null,
   "metadata": {},
   "outputs": [
    {
     "data": {
      "application/vnd.jupyter.widget-view+json": {
       "model_id": "67e746e450674be8a64e124bd1cea11f",
       "version_major": 2,
       "version_minor": 0
      },
      "text/plain": [
       "Class map: scanning targets:   0%|          | 0/354 [00:00<?, ?it/s]"
      ]
     },
     "metadata": {},
     "output_type": "display_data"
    },
    {
     "data": {
      "application/vnd.jupyter.widget-view+json": {
       "model_id": "1e82ee288ce34594bde5a48f13e2a7e3",
       "version_major": 2,
       "version_minor": 0
      },
      "text/plain": [
       "Class map: partitioning:   0%|          | 0/2 [00:00<?, ?it/s]"
      ]
     },
     "metadata": {},
     "output_type": "display_data"
    },
    {
     "data": {
      "application/vnd.jupyter.widget-view+json": {
       "model_id": "83e566bcf0024a95b1c421b260e5bf19",
       "version_major": 2,
       "version_minor": 0
      },
      "text/plain": [
       "Class map: scanning targets:   0%|          | 0/702 [00:00<?, ?it/s]"
      ]
     },
     "metadata": {},
     "output_type": "display_data"
    },
    {
     "data": {
      "application/vnd.jupyter.widget-view+json": {
       "model_id": "9fbba5b1c0ce49fcacc3bd341f3e2689",
       "version_major": 2,
       "version_minor": 0
      },
      "text/plain": [
       "Class map: partitioning:   0%|          | 0/2 [00:00<?, ?it/s]"
      ]
     },
     "metadata": {},
     "output_type": "display_data"
    },
    {
     "data": {
      "application/vnd.jupyter.widget-view+json": {
       "model_id": "8630a77a345e41deb75f6f14d2b7576c",
       "version_major": 2,
       "version_minor": 0
      },
      "text/plain": [
       "Class map: scanning targets:   0%|          | 0/348 [00:00<?, ?it/s]"
      ]
     },
     "metadata": {},
     "output_type": "display_data"
    },
    {
     "data": {
      "application/vnd.jupyter.widget-view+json": {
       "model_id": "aea3568454064ac283928c1aed8d3c16",
       "version_major": 2,
       "version_minor": 0
      },
      "text/plain": [
       "Class map: partitioning:   0%|          | 0/2 [00:00<?, ?it/s]"
      ]
     },
     "metadata": {},
     "output_type": "display_data"
    }
   ],
   "source": [
    "for singles_ss, pairs_ss in zip(singles.subsets, pairs.subsets):\n",
    "    test_close(len(pairs_ss), len(singles_ss)*factor, 2)\n",
    "    test_eq(set(pairs_ss.by_target.keys()), {'Not Same', 'Same'})\n",
    "    test_eq(len(pairs.by_target['Same']), len(pairs.by_target['Not Same']))"
   ]
  },
  {
   "cell_type": "code",
   "execution_count": null,
   "metadata": {},
   "outputs": [
    {
     "data": {
      "text/plain": [
       "{'Same': (#351) [((PILImage mode=RGB size=28x28, PILImage mode=RGB size=28x28), TensorCategory(1)),((PILImage mode=RGB size=28x28, PILImage mode=RGB size=28x28), TensorCategory(1)),((PILImage mode=RGB size=28x28, PILImage mode=RGB size=28x28), TensorCategory(1)),((PILImage mode=RGB size=28x28, PILImage mode=RGB size=28x28), TensorCategory(1)),((PILImage mode=RGB size=28x28, PILImage mode=RGB size=28x28), TensorCategory(1)),((PILImage mode=RGB size=28x28, PILImage mode=RGB size=28x28), TensorCategory(1)),((PILImage mode=RGB size=28x28, PILImage mode=RGB size=28x28), TensorCategory(1)),((PILImage mode=RGB size=28x28, PILImage mode=RGB size=28x28), TensorCategory(1)),((PILImage mode=RGB size=28x28, PILImage mode=RGB size=28x28), TensorCategory(1)),((PILImage mode=RGB size=28x28, PILImage mode=RGB size=28x28), TensorCategory(1))...],\n",
       " 'Not Same': (#351) [((PILImage mode=RGB size=28x28, PILImage mode=RGB size=28x28), TensorCategory(0)),((PILImage mode=RGB size=28x28, PILImage mode=RGB size=28x28), TensorCategory(0)),((PILImage mode=RGB size=28x28, PILImage mode=RGB size=28x28), TensorCategory(0)),((PILImage mode=RGB size=28x28, PILImage mode=RGB size=28x28), TensorCategory(0)),((PILImage mode=RGB size=28x28, PILImage mode=RGB size=28x28), TensorCategory(0)),((PILImage mode=RGB size=28x28, PILImage mode=RGB size=28x28), TensorCategory(0)),((PILImage mode=RGB size=28x28, PILImage mode=RGB size=28x28), TensorCategory(0)),((PILImage mode=RGB size=28x28, PILImage mode=RGB size=28x28), TensorCategory(0)),((PILImage mode=RGB size=28x28, PILImage mode=RGB size=28x28), TensorCategory(0)),((PILImage mode=RGB size=28x28, PILImage mode=RGB size=28x28), TensorCategory(0))...]}"
      ]
     },
     "execution_count": null,
     "metadata": {},
     "output_type": "execute_result"
    }
   ],
   "source": [
    "pairs.by_target"
   ]
  },
  {
   "cell_type": "code",
   "execution_count": null,
   "metadata": {},
   "outputs": [
    {
     "data": {
      "image/png": "[encoded data removed]",
      "text/plain": [
       "<Figure size 1200x600 with 9 Axes>"
      ]
     },
     "metadata": {},
     "output_type": "display_data"
    }
   ],
   "source": [
    "pairs.dls().show_batch()"
   ]
  },
  {
   "cell_type": "code",
   "execution_count": null,
   "metadata": {},
   "outputs": [],
   "source": [
    "#| hide\n",
    "import nbdev; nbdev.nbdev_export()"
   ]
  }
 ],
 "metadata": {
  "kernelspec": {
   "display_name": "python3",
   "language": "python",
   "name": "python3"
  }
 },
 "nbformat": 4,
 "nbformat_minor": 2
}
