{
 "cells": [
  {
   "attachments": {},
   "cell_type": "markdown",
   "metadata": {},
   "source": [
    "# Pairs Datasets"
   ]
  },
  {
   "cell_type": "code",
   "execution_count": null,
   "metadata": {},
   "outputs": [],
   "source": [
    "#| default_exp pairs"
   ]
  },
  {
   "cell_type": "code",
   "execution_count": null,
   "metadata": {},
   "outputs": [],
   "source": [
    "#| export\n",
    "import random\n",
    "from typing import NamedTuple\n",
    "\n",
    "from fastai.vision.all import *\n",
    "from tqdm.auto import trange, tqdm\n",
    "\n",
    "import fast_datasets.patches\n",
    "from fast_datasets.utils import return_list"
   ]
  },
  {
   "cell_type": "code",
   "execution_count": null,
   "metadata": {},
   "outputs": [],
   "source": [
    "#| exporti\n",
    "class ImagePair(fastuple):\n",
    "    @classmethod\n",
    "    def create(cls, fns): return cls(tuple(PILImage.create(f) for f in fns))\n",
    "    \n",
    "    def show(self, ctx=None, **kwargs): \n",
    "        t1,t2 = ToTensor()(self)\n",
    "        line = t1.new_zeros(t1.shape[0], t1.shape[1], 10)\n",
    "        return show_image(torch.cat([t1,line,t2], dim=2), ctx=ctx, **kwargs)\n",
    "\n",
    "\n",
    "@typedispatch\n",
    "def show_batch(x:ImagePair, y, samples, ctxs=None, max_n=6, nrows=None, ncols=2, figsize=None, **kwargs):\n",
    "    if figsize is None: figsize = (ncols*6, max_n//ncols * 3)\n",
    "    if ctxs is None: ctxs = get_grid(min(len(samples), max_n), nrows=nrows, ncols=ncols, figsize=figsize)\n",
    "    ctxs = show_batch[TensorImage](x, y, samples, ctxs=ctxs, max_n=max_n, **kwargs)\n",
    "    return ctxs\n",
    "\n",
    "\n",
    "class Sameness(Categorize):\n",
    "    def __init__(self):\n",
    "        super().__init__(['Not Same', 'Same'], sort=False)\n",
    "\n",
    "    def encodes(self, o: bool):\n",
    "        return super().encodes(self.vocab[o])"
   ]
  },
  {
   "cell_type": "code",
   "execution_count": null,
   "metadata": {},
   "outputs": [],
   "source": [
    "#| export\n",
    "def _pairs_for_split(singles: DataLoaders, split_idx: int, factor: int):\n",
    "    assert singles.n_inp == 1\n",
    "\n",
    "    indices = L(range_of(singles))[singles.splits[split_idx]]\n",
    "    num = int(len(indices) * factor)\n",
    "\n",
    "    class_map = defaultdict(list)\n",
    "    for i, c in tqdm(zip(indices, singles.targets.subset(split_idx)), desc='Class map: scanning targets'):\n",
    "        class_map[singles.vocab[c]].append(i)\n",
    "\n",
    "    @return_list\n",
    "    def _positive_pairs():\n",
    "        multi_item_class_map = {k: v for k, v in class_map.items() if len(v)>1}\n",
    "        for _ in trange(num//2, desc=f'Generating positive pairs'):\n",
    "            c, idxs = random.choice(list(multi_item_class_map.items()))\n",
    "            yield tuple(random.sample(idxs, 2))\n",
    "\n",
    "    @return_list\n",
    "    def _negative_pairs():\n",
    "        for _ in trange(num//2, desc=f'Generating negative pairs'):\n",
    "            (c1, idxs1), (c2, idxs2) = random.sample(list(class_map.items()), 2)\n",
    "            yield (random.choice(idxs1), random.choice(idxs2))\n",
    "\n",
    "    return _positive_pairs() + _negative_pairs()\n",
    "\n",
    "\n",
    "def Pairs(singles: Datasets, factor=10, tuple_type=ImagePair):\n",
    "    assert singles.n_inp == 1\n",
    "    pairs_for_splits = [_pairs_for_split(singles, i, factor) for i in range(singles.n_subsets)]\n",
    "\n",
    "    splits = [slice(len(pairs_for_splits[0]))]\n",
    "    for pairs in pairs_for_splits[1:]:\n",
    "        start = splits[-1].stop\n",
    "        splits.append(slice(start, start+len(pairs)))\n",
    "\n",
    "    return Datasets(\n",
    "        [L(x) for items in pairs_for_splits for x in items],\n",
    "        tfms=[\n",
    "            lambda o: tuple_type(singles.tls[0][o]),\n",
    "            [lambda o: bool(singles.targets[o[0]] == singles.targets[o[1]]), Sameness()]\n",
    "        ],\n",
    "        splits=splits,\n",
    "        do_setup=False,\n",
    "    )\n"
   ]
  },
  {
   "cell_type": "code",
   "execution_count": null,
   "metadata": {},
   "outputs": [],
   "source": [
    "from fast_datasets.mnist import TinyMNIST"
   ]
  },
  {
   "cell_type": "code",
   "execution_count": null,
   "metadata": {},
   "outputs": [],
   "source": [
    "pairs = Pairs(TinyMNIST(), factor=.5)\n",
    "pairs.dls().show_batch()"
   ]
  },
  {
   "cell_type": "code",
   "execution_count": null,
   "metadata": {},
   "outputs": [],
   "source": [
    "#| hide\n",
    "import nbdev; nbdev.nbdev_export()"
   ]
  }
 ],
 "metadata": {
  "kernelspec": {
   "display_name": "python3",
   "language": "python",
   "name": "python3"
  }
 },
 "nbformat": 4,
 "nbformat_minor": 2
}
