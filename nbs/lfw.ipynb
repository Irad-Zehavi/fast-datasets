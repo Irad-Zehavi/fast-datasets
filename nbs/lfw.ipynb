{
 "cells": [
  {
   "attachments": {},
   "cell_type": "markdown",
   "metadata": {},
   "source": [
    "# LFW"
   ]
  },
  {
   "cell_type": "code",
   "execution_count": null,
   "metadata": {},
   "outputs": [],
   "source": [
    "#| default_exp lfw"
   ]
  },
  {
   "cell_type": "code",
   "execution_count": null,
   "metadata": {},
   "outputs": [],
   "source": [
    "#| export\n",
    "from abc import ABC, abstractmethod\n",
    "\n",
    "import torchvision\n",
    "from fastai.vision.all import *\n",
    "from sklearn.model_selection import KFold\n",
    "\n",
    "import fast_datasets.patches\n",
    "from fast_datasets.utils import return_list"
   ]
  },
  {
   "cell_type": "code",
   "execution_count": null,
   "metadata": {},
   "outputs": [],
   "source": [
    "#| exporti\n",
    "class LFW(ABC):\n",
    "    TEST_ITEMS_FILE_NAME: str\n",
    "\n",
    "    def __init__(self, root=Path.home()/'.fastai'):\n",
    "        torchvision.datasets.LFWPeople(root, split='10fold', image_set='original', download=True)\n",
    "        torchvision.datasets.LFWPeople(root, split='train', image_set='original', download=True)\n",
    "        torchvision.datasets.LFWPeople(root, split='test', image_set='original', download=True)\n",
    "        self.root = root/'lfw-py'\n",
    "\n",
    "    def test(self):\n",
    "        items = self._parse_items(self.root / self.TEST_ITEMS_FILE_NAME)\n",
    "        splits = KFold(n_splits=10, shuffle=False).split(range_of(items))\n",
    "        return [self._load(items=items, splits=s) for s in splits]\n",
    "\n",
    "    @abstractmethod\n",
    "    def _parse_items(self, pairs_txt_path):\n",
    "        pass\n",
    "\n",
    "    @abstractmethod\n",
    "    def _load(self, **kwargs):\n",
    "        pass\n",
    "\n",
    "    def _get_path(self, name, num) -> Path:\n",
    "        return self.root / 'lfw' / name / f'{name}_{num:04d}.jpg'\n",
    "\n",
    "\n",
    "class LFWDevMixin(LFW):\n",
    "    DEV_TRAIN_ITEMS_FILE_NAME: str\n",
    "    DEV_TEST_ITEMS_FILE_NAME: str\n",
    "\n",
    "    def dev(self):\n",
    "        train_items = self._parse_items(self.root / self.DEV_TRAIN_ITEMS_FILE_NAME)\n",
    "        valid_items = self._parse_items(self.root / self.DEV_TEST_ITEMS_FILE_NAME)\n",
    "        items = valid_items+train_items\n",
    "\n",
    "        return self._load(\n",
    "            items=items,\n",
    "            splits=IndexSplitter(range_of(valid_items))(items)\n",
    "        )"
   ]
  },
  {
   "cell_type": "code",
   "execution_count": null,
   "metadata": {},
   "outputs": [],
   "source": [
    "#| export\n",
    "class LFWPeople(LFWDevMixin, LFW):\n",
    "    \"\"\"\n",
    "    Individual facial images.\n",
    "    Splits contain disjoint identities, since they're meant to for constructing pairs (using `Pairs`)\n",
    "    \"\"\"\n",
    "    TEST_ITEMS_FILE_NAME = 'people.txt'\n",
    "    DEV_TRAIN_ITEMS_FILE_NAME = 'peopleDevTrain.txt'\n",
    "    DEV_TEST_ITEMS_FILE_NAME = 'peopleDevTest.txt'\n",
    "    \n",
    "    @return_list\n",
    "    def _parse_items(self, pairs_txt_path):\n",
    "        lines = [l.split() for l in pairs_txt_path.readlines()]\n",
    "        for l in lines[1:]:\n",
    "            if len(l) == 1:\n",
    "                continue\n",
    "            name, num_images = l\n",
    "            for i in range(1, int(num_images)+1):\n",
    "                yield self._get_path(name, i)\n",
    "\n",
    "    def _load(self, **kwargs):\n",
    "        return Datasets(\n",
    "            tfms=[\n",
    "                PILImage.create,\n",
    "                [parent_label, lambda s: s.replace('_', ' '), Categorize()]\n",
    "            ],\n",
    "            train_setup=False,\n",
    "            **kwargs\n",
    "        )\n"
   ]
  },
  {
   "cell_type": "code",
   "execution_count": null,
   "metadata": {},
   "outputs": [],
   "source": [
    "LFWPeople().dev().dls().show_batch()"
   ]
  },
  {
   "cell_type": "code",
   "execution_count": null,
   "metadata": {},
   "outputs": [],
   "source": [
    "#| hide\n",
    "import nbdev; nbdev.nbdev_export()"
   ]
  }
 ],
 "metadata": {
  "kernelspec": {
   "display_name": "python3",
   "language": "python",
   "name": "python3"
  }
 },
 "nbformat": 4,
 "nbformat_minor": 2
}
