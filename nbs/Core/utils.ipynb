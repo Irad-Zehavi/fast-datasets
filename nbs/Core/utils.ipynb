{
 "cells": [
  {
   "attachments": {},
   "cell_type": "markdown",
   "metadata": {},
   "source": [
    "# Utils"
   ]
  },
  {
   "cell_type": "code",
   "execution_count": null,
   "metadata": {},
   "outputs": [],
   "source": [
    "#| default_exp utils"
   ]
  },
  {
   "cell_type": "code",
   "execution_count": null,
   "metadata": {},
   "outputs": [],
   "source": [
    "#| hide\n",
    "from nbdev.showdoc import *"
   ]
  },
  {
   "cell_type": "code",
   "execution_count": null,
   "metadata": {},
   "outputs": [],
   "source": [
    "#| export\n",
    "def fix_notebook_widgets():\n",
    "    \"\"\"Taken from https://github.com/microsoft/vscode-jupyter/issues/13163\"\"\"\n",
    "    from IPython.display import clear_output, DisplayHandle\n",
    "    def update_patch(self, obj):\n",
    "        clear_output(wait=True)\n",
    "        self.display(obj)\n",
    "    DisplayHandle.update = update_patch"
   ]
  },
  {
   "cell_type": "code",
   "execution_count": null,
   "metadata": {},
   "outputs": [],
   "source": []
  },
  {
   "cell_type": "code",
   "execution_count": null,
   "metadata": {},
   "outputs": [],
   "source": [
    "#| export\n",
    "from fastcore.all import *\n",
    "from fastdownload import *\n",
    "from fastai.vision.all import *"
   ]
  },
  {
   "cell_type": "code",
   "execution_count": null,
   "metadata": {},
   "outputs": [],
   "source": [
    "#| export\n",
    "def data_path():\n",
    "    return fastai_path('data')\n",
    "\n",
    "@delegates(FastDownload.download)\n",
    "def fetch_file(*args, **kwargs):\n",
    "    return FastDownload(fastai_cfg()).download(*args, **kwargs)"
   ]
  },
  {
   "cell_type": "code",
   "execution_count": null,
   "metadata": {},
   "outputs": [],
   "source": [
    "#| export\n",
    "def return_list(f):\n",
    "    @delegates(f)\n",
    "    def wrapper(*args, **kwargs):\n",
    "        return list(f(*args, **kwargs))\n",
    "    return wrapper"
   ]
  },
  {
   "cell_type": "code",
   "execution_count": null,
   "metadata": {},
   "outputs": [],
   "source": [
    "@return_list\n",
    "def foo(n):\n",
    "    yield from range(n)\n",
    "\n",
    "test_eq(foo(10), list(range(10)))"
   ]
  },
  {
   "cell_type": "code",
   "execution_count": null,
   "metadata": {},
   "outputs": [],
   "source": [
    "#| export\n",
    "\"\"\"\n",
    "based on https://github.com/timesler/facenet-pytorch/blob/master/examples/lfw_evaluate.ipynb\n",
    "\"\"\"\n",
    "import os\n",
    "\n",
    "import PIL\n",
    "import torch\n",
    "from facenet_pytorch import MTCNN, training\n",
    "from fastprogress.fastprogress import *\n",
    "\n",
    "\n",
    "def mtcnn_aligned(path: Path,  # path to unaligned images\n",
    "                  force=False,  # compute MTCNN alignment even if aligned images exist\n",
    "                  batched=True\n",
    "                  ) -> Path:   # path to aligned images\n",
    "    \"\"\"Uses MTCNN to align and extract faces\"\"\"\n",
    "    mtcnn_path = path.with_name(path.name+'_mtcnn')\n",
    "    if not force and mtcnn_path.exists():\n",
    "        return mtcnn_path\n",
    "\n",
    "    mtcnn = MTCNN(\n",
    "        image_size=160,\n",
    "        margin=14,\n",
    "        device=default_device(),\n",
    "        selection_method='center_weighted_size'\n",
    "    )\n",
    "\n",
    "    loader = torch.utils.data.DataLoader(\n",
    "        Datasets(get_image_files(path), [PIL.Image.open, noop]),\n",
    "        num_workers=0 if os.name == 'nt' else 8,\n",
    "        batch_size=64 if batched else 1,\n",
    "        collate_fn=training.collate_pil\n",
    "    )\n",
    "\n",
    "    for imgs, paths in progress_bar(loader, comment='MTCNN'):\n",
    "        output_paths = [mtcnn_path/p.relative_to(path) for p in paths]\n",
    "        mtcnn(imgs, save_path=output_paths)\n",
    "\n",
    "    return mtcnn_path"
   ]
  },
  {
   "cell_type": "code",
   "execution_count": null,
   "metadata": {},
   "outputs": [],
   "source": [
    "#| hide\n",
    "import nbdev; nbdev.nbdev_export()"
   ]
  }
 ],
 "metadata": {
  "kernelspec": {
   "display_name": "python3",
   "language": "python",
   "name": "python3"
  }
 },
 "nbformat": 4,
 "nbformat_minor": 4
}
